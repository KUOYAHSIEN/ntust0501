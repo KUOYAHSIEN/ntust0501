{
 "cells": [
  {
   "cell_type": "code",
   "execution_count": 14,
   "metadata": {},
   "outputs": [
    {
     "name": "stdout",
     "output_type": "stream",
     "text": [
      "input:1\n",
      "輸入+-*/+\n",
      "input:3\n",
      "4\n"
     ]
    }
   ],
   "source": [
    "def add(arg1,arg2):\n",
    "   print (arg1+arg2)\n",
    "def sub(arg1,arg2):\n",
    "   print (arg1-arg2)\n",
    "def mul(arg1,arg2):\n",
    "   print (arg1*arg2)\n",
    "def div(arg1,arg2):\n",
    "   print (arg1/arg2)\n",
    "\n",
    "a = eval(input(\"input:\"))\n",
    "gg = input(\"輸入+-*/\")\n",
    "b = eval(input(\"input:\"))\n",
    "if gg=='+':\n",
    " add(a,b)\n",
    "if gg=='-':\n",
    " sub(a,b)\n",
    "if gg=='*':\n",
    " mul(a,b)\n",
    "if gg=='/':\n",
    " div(a,b)"
   ]
  },
  {
   "cell_type": "code",
   "execution_count": null,
   "metadata": {},
   "outputs": [],
   "source": []
  }
 ],
 "metadata": {
  "kernelspec": {
   "display_name": "Python 3",
   "language": "python",
   "name": "python3"
  },
  "language_info": {
   "codemirror_mode": {
    "name": "ipython",
    "version": 3
   },
   "file_extension": ".py",
   "mimetype": "text/x-python",
   "name": "python",
   "nbconvert_exporter": "python",
   "pygments_lexer": "ipython3",
   "version": "3.7.3"
  }
 },
 "nbformat": 4,
 "nbformat_minor": 2
}
